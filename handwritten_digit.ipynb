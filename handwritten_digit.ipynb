{
  "nbformat": 4,
  "nbformat_minor": 0,
  "metadata": {
    "colab": {
      "name": "handwritten_digit.ipynb",
      "provenance": [],
      "collapsed_sections": [],
      "mount_file_id": "1W9p3iU2tYgog63dAuoh0cjiASo_6A8Rg",
      "authorship_tag": "ABX9TyMc7J9X0yDoZvrt9I6LA5mO",
      "include_colab_link": true
    },
    "kernelspec": {
      "name": "python3",
      "display_name": "Python 3"
    },
    "accelerator": "GPU"
  },
  "cells": [
    {
      "cell_type": "markdown",
      "metadata": {
        "id": "view-in-github",
        "colab_type": "text"
      },
      "source": [
        "<a href=\"https://colab.research.google.com/github/btbcy/DNN_practice/blob/master/handwritten_digit.ipynb\" target=\"_parent\"><img src=\"https://colab.research.google.com/assets/colab-badge.svg\" alt=\"Open In Colab\"/></a>"
      ]
    },
    {
      "cell_type": "markdown",
      "metadata": {
        "id": "xvX2jh904Vf0",
        "colab_type": "text"
      },
      "source": [
        "# import"
      ]
    },
    {
      "cell_type": "code",
      "metadata": {
        "id": "jxVYrr505-8k",
        "colab_type": "code",
        "colab": {}
      },
      "source": [
        "import numpy as np"
      ],
      "execution_count": null,
      "outputs": []
    },
    {
      "cell_type": "code",
      "metadata": {
        "id": "fsuVrlGL7NdP",
        "colab_type": "code",
        "colab": {}
      },
      "source": [
        "import tensorflow as tf\n",
        "from tensorflow import keras\n",
        "from tensorflow.keras import layers"
      ],
      "execution_count": null,
      "outputs": []
    },
    {
      "cell_type": "markdown",
      "metadata": {
        "id": "dtXx-uubFgXR",
        "colab_type": "text"
      },
      "source": [
        "# load data"
      ]
    },
    {
      "cell_type": "code",
      "metadata": {
        "id": "YCxb-JhcFlp_",
        "colab_type": "code",
        "colab": {
          "base_uri": "https://localhost:8080/",
          "height": 53
        },
        "outputId": "e8276a97-927e-425b-a785-62331317f629"
      },
      "source": [
        "(x_train, y_train), (x_test, y_test) = keras.datasets.mnist.load_data()\n",
        "\n",
        "# only train 10000 data\n",
        "number = 10000\n",
        "x_train = x_train[0:number]\n",
        "y_train = y_train[0:number]\n",
        "\n",
        "# x_train = x_train.reshape(x_train.shape[0], 28*28)\n",
        "# x_test = x_test.reshape(x_test.shape[0], 28*28)\n",
        "x_train = tf.cast(x_train, tf.float32)\n",
        "x_test = tf.cast(x_test, tf.float32)\n",
        "\n",
        "# Converts a class vector (integers) to binary class matrix.\n",
        "# E.g. for use with loss_categorical_crossentropy().\n",
        "y_train = keras.utils.to_categorical(y_train, num_classes=10, dtype=\"float32\")\n",
        "y_test = keras.utils.to_categorical(y_test, num_classes=10, dtype=\"float32\")\n",
        "\n",
        "# normalize\n",
        "x_train = x_train / 255\n",
        "x_test = x_test / 255\n",
        "\n",
        "# add noise\n",
        "# x_test = np.random.normal(x_test)"
      ],
      "execution_count": null,
      "outputs": [
        {
          "output_type": "stream",
          "text": [
            "Downloading data from https://storage.googleapis.com/tensorflow/tf-keras-datasets/mnist.npz\n",
            "11493376/11490434 [==============================] - 0s 0us/step\n"
          ],
          "name": "stdout"
        }
      ]
    },
    {
      "cell_type": "markdown",
      "metadata": {
        "id": "4PQ8SQqoELqs",
        "colab_type": "text"
      },
      "source": [
        "# nn"
      ]
    },
    {
      "cell_type": "code",
      "metadata": {
        "id": "vU7qK6OmEQfz",
        "colab_type": "code",
        "colab": {
          "base_uri": "https://localhost:8080/",
          "height": 307
        },
        "outputId": "49f377cb-b5c8-43fb-ded1-ccead4dce3ab"
      },
      "source": [
        "model = keras.Sequential([\n",
        "  layers.Flatten(input_shape=(28, 28)),\n",
        "  layers.Dense(units=500, activation='relu'),\n",
        "  # layers.Dropout(0.7),\n",
        "  layers.Dense(units=128, activation='relu'),\n",
        "  # layers.Dropout(0.7),\n",
        "  layers.Dense(10, activation='softmax')\n",
        "])\n",
        "\n",
        "# set configurations\n",
        "model.compile(\n",
        "    # loss='mean_squared_error',\n",
        "    loss='categorical_crossentropy',\n",
        "    # optimizer='adam',\n",
        "    # optimizer=keras.optimizers.SGD(learning_rate=0.01),\n",
        "    # optimizer=keras.optimizers.Adam(0.001),\n",
        "    optimizer=keras.optimizers.Adam(),\n",
        "    metrics=['accuracy']\n",
        ")\n",
        "\n",
        "model.summary()"
      ],
      "execution_count": null,
      "outputs": [
        {
          "output_type": "stream",
          "text": [
            "Model: \"sequential_27\"\n",
            "_________________________________________________________________\n",
            "Layer (type)                 Output Shape              Param #   \n",
            "=================================================================\n",
            "flatten_27 (Flatten)         (None, 784)               0         \n",
            "_________________________________________________________________\n",
            "dense_68 (Dense)             (None, 500)               392500    \n",
            "_________________________________________________________________\n",
            "dense_69 (Dense)             (None, 128)               64128     \n",
            "_________________________________________________________________\n",
            "dense_70 (Dense)             (None, 10)                1290      \n",
            "=================================================================\n",
            "Total params: 457,918\n",
            "Trainable params: 457,918\n",
            "Non-trainable params: 0\n",
            "_________________________________________________________________\n"
          ],
          "name": "stdout"
        }
      ]
    },
    {
      "cell_type": "code",
      "metadata": {
        "id": "nhr-9wy5H3Ce",
        "colab_type": "code",
        "colab": {
          "base_uri": "https://localhost:8080/",
          "height": 760
        },
        "outputId": "36b22190-0695-4abd-acce-593ced1df5aa"
      },
      "source": [
        "# train model\n",
        "# model.fit(x_train, y_train, batch_size=100, epochs=20, validation_data=(x_test, y_test))\n",
        "model.fit(x_train, y_train, batch_size=100, epochs=20)"
      ],
      "execution_count": null,
      "outputs": [
        {
          "output_type": "stream",
          "text": [
            "Epoch 1/20\n",
            "100/100 [==============================] - 0s 2ms/step - loss: 0.4892 - accuracy: 0.8644\n",
            "Epoch 2/20\n",
            "100/100 [==============================] - 0s 2ms/step - loss: 0.1972 - accuracy: 0.9419\n",
            "Epoch 3/20\n",
            "100/100 [==============================] - 0s 2ms/step - loss: 0.1239 - accuracy: 0.9641\n",
            "Epoch 4/20\n",
            "100/100 [==============================] - 0s 2ms/step - loss: 0.0812 - accuracy: 0.9770\n",
            "Epoch 5/20\n",
            "100/100 [==============================] - 0s 2ms/step - loss: 0.0541 - accuracy: 0.9850\n",
            "Epoch 6/20\n",
            "100/100 [==============================] - 0s 2ms/step - loss: 0.0373 - accuracy: 0.9900\n",
            "Epoch 7/20\n",
            "100/100 [==============================] - 0s 2ms/step - loss: 0.0243 - accuracy: 0.9939\n",
            "Epoch 8/20\n",
            "100/100 [==============================] - 0s 2ms/step - loss: 0.0141 - accuracy: 0.9976\n",
            "Epoch 9/20\n",
            "100/100 [==============================] - 0s 2ms/step - loss: 0.0124 - accuracy: 0.9974\n",
            "Epoch 10/20\n",
            "100/100 [==============================] - 0s 2ms/step - loss: 0.0069 - accuracy: 0.9991\n",
            "Epoch 11/20\n",
            "100/100 [==============================] - 0s 2ms/step - loss: 0.0028 - accuracy: 1.0000\n",
            "Epoch 12/20\n",
            "100/100 [==============================] - 0s 2ms/step - loss: 0.0017 - accuracy: 1.0000\n",
            "Epoch 13/20\n",
            "100/100 [==============================] - 0s 2ms/step - loss: 0.0013 - accuracy: 1.0000\n",
            "Epoch 14/20\n",
            "100/100 [==============================] - 0s 2ms/step - loss: 0.0011 - accuracy: 1.0000\n",
            "Epoch 15/20\n",
            "100/100 [==============================] - 0s 2ms/step - loss: 9.3106e-04 - accuracy: 1.0000\n",
            "Epoch 16/20\n",
            "100/100 [==============================] - 0s 2ms/step - loss: 7.8943e-04 - accuracy: 1.0000\n",
            "Epoch 17/20\n",
            "100/100 [==============================] - 0s 2ms/step - loss: 6.8931e-04 - accuracy: 1.0000\n",
            "Epoch 18/20\n",
            "100/100 [==============================] - 0s 2ms/step - loss: 6.0057e-04 - accuracy: 1.0000\n",
            "Epoch 19/20\n",
            "100/100 [==============================] - 0s 2ms/step - loss: 5.2408e-04 - accuracy: 1.0000\n",
            "Epoch 20/20\n",
            "100/100 [==============================] - 0s 2ms/step - loss: 4.7053e-04 - accuracy: 1.0000\n"
          ],
          "name": "stdout"
        },
        {
          "output_type": "execute_result",
          "data": {
            "text/plain": [
              "<tensorflow.python.keras.callbacks.History at 0x7f2a892aa780>"
            ]
          },
          "metadata": {
            "tags": []
          },
          "execution_count": 67
        }
      ]
    },
    {
      "cell_type": "code",
      "metadata": {
        "id": "kIca2nbtMZt1",
        "colab_type": "code",
        "colab": {
          "base_uri": "https://localhost:8080/",
          "height": 89
        },
        "outputId": "22527008-e117-438e-966f-18c619bfe21e"
      },
      "source": [
        "# evaluate the model and output the accuracy\n",
        "result_train = model.evaluate(x_train, y_train)\n",
        "result_test = model.evaluate(x_test, y_test)\n",
        "print('Train Acc:', result_train[1])\n",
        "print('Test Acc:', result_test[1])"
      ],
      "execution_count": null,
      "outputs": [
        {
          "output_type": "stream",
          "text": [
            "313/313 [==============================] - 1s 2ms/step - loss: 0.0714 - accuracy: 0.9842\n",
            "313/313 [==============================] - 1s 2ms/step - loss: 0.2033 - accuracy: 0.9394\n",
            "Train Acc: 0.9842000007629395\n",
            "Test Acc: 0.9394000172615051\n"
          ],
          "name": "stdout"
        }
      ]
    },
    {
      "cell_type": "markdown",
      "metadata": {
        "id": "ARECwnY64pY-",
        "colab_type": "text"
      },
      "source": [
        "# 課程demo上做不起來的原因\n",
        "1. (主要）使用SGD，換成ADAM就有正確率0.9以上\n",
        "2. 用 ADAM + MSE，正確率0.99；用 ADAM + cross entropy，正確可以達到1\n",
        "3. sigmoid改成relu，正確率提升的速度較快"
      ]
    }
  ]
}