{
  "nbformat": 4,
  "nbformat_minor": 0,
  "metadata": {
    "colab": {
      "name": "handwritten_digit.ipynb",
      "provenance": [],
      "collapsed_sections": [],
      "mount_file_id": "1W9p3iU2tYgog63dAuoh0cjiASo_6A8Rg",
      "authorship_tag": "ABX9TyMc7J9X0yDoZvrt9I6LA5mO",
      "include_colab_link": true
    },
    "kernelspec": {
      "name": "python3",
      "display_name": "Python 3"
    },
    "accelerator": "GPU"
  },
  "cells": [
    {
      "cell_type": "markdown",
      "metadata": {
        "id": "view-in-github",
        "colab_type": "text"
      },
      "source": [
        "<a href=\"https://colab.research.google.com/github/btbcy/DNN_practice/blob/master/handwritten_digit.ipynb\" target=\"_parent\"><img src=\"https://colab.research.google.com/assets/colab-badge.svg\" alt=\"Open In Colab\"/></a>"
      ]
    },
    {
      "cell_type": "markdown",
      "metadata": {
        "id": "xvX2jh904Vf0",
        "colab_type": "text"
      },
      "source": [
        "# import"
      ]
    },
    {
      "cell_type": "code",
      "metadata": {
        "id": "jxVYrr505-8k",
        "colab_type": "code",
        "colab": {}
      },
      "source": [
        "import numpy as np"
      ],
      "execution_count": 1,
      "outputs": []
    },
    {
      "cell_type": "code",
      "metadata": {
        "id": "fsuVrlGL7NdP",
        "colab_type": "code",
        "colab": {}
      },
      "source": [
        "import tensorflow as tf\n",
        "from tensorflow import keras\n",
        "from tensorflow.keras import layers"
      ],
      "execution_count": 2,
      "outputs": []
    },
    {
      "cell_type": "markdown",
      "metadata": {
        "id": "dtXx-uubFgXR",
        "colab_type": "text"
      },
      "source": [
        "# load data"
      ]
    },
    {
      "cell_type": "code",
      "metadata": {
        "id": "YCxb-JhcFlp_",
        "colab_type": "code",
        "colab": {
          "base_uri": "https://localhost:8080/",
          "height": 53
        },
        "outputId": "76cfb5a7-255f-4a11-9818-7b2ddc73a111"
      },
      "source": [
        "(x_train, y_train), (x_test, y_test) = keras.datasets.mnist.load_data()\n",
        "\n",
        "# only train 10000 data\n",
        "number = 10000\n",
        "x_train = x_train[0:number]\n",
        "y_train = y_train[0:number]\n",
        "\n",
        "# x_train = x_train.reshape(x_train.shape[0], 28*28)\n",
        "# x_test = x_test.reshape(x_test.shape[0], 28*28)\n",
        "x_train = tf.cast(x_train, tf.float32)\n",
        "x_test = tf.cast(x_test, tf.float32)\n",
        "\n",
        "# Converts a class vector (integers) to binary class matrix.\n",
        "# E.g. for use with loss_categorical_crossentropy().\n",
        "y_train = keras.utils.to_categorical(y_train, num_classes=10, dtype=\"float32\")\n",
        "y_test = keras.utils.to_categorical(y_test, num_classes=10, dtype=\"float32\")\n",
        "\n",
        "# normalize\n",
        "x_train = x_train / 255\n",
        "x_test = x_test / 255\n",
        "\n",
        "# add noise\n",
        "# x_test = np.random.normal(x_test)"
      ],
      "execution_count": 3,
      "outputs": [
        {
          "output_type": "stream",
          "text": [
            "Downloading data from https://storage.googleapis.com/tensorflow/tf-keras-datasets/mnist.npz\n",
            "11493376/11490434 [==============================] - 0s 0us/step\n"
          ],
          "name": "stdout"
        }
      ]
    },
    {
      "cell_type": "markdown",
      "metadata": {
        "id": "4PQ8SQqoELqs",
        "colab_type": "text"
      },
      "source": [
        "# nn"
      ]
    },
    {
      "cell_type": "code",
      "metadata": {
        "id": "vU7qK6OmEQfz",
        "colab_type": "code",
        "colab": {
          "base_uri": "https://localhost:8080/",
          "height": 307
        },
        "outputId": "5b33d787-09ef-4ff6-a580-2f20ee55b411"
      },
      "source": [
        "model = keras.Sequential([\n",
        "  layers.Flatten(input_shape=(28, 28)),\n",
        "  layers.Dense(units=500, activation='relu'),\n",
        "  # layers.Dropout(0.7),\n",
        "  layers.Dense(units=128, activation='relu'),\n",
        "  # layers.Dropout(0.7),\n",
        "  layers.Dense(10, activation='softmax')\n",
        "])\n",
        "\n",
        "# set configurations\n",
        "model.compile(\n",
        "    # loss='mean_squared_error',\n",
        "    loss='categorical_crossentropy',\n",
        "    # optimizer='adam',\n",
        "    # optimizer=keras.optimizers.SGD(learning_rate=0.01),\n",
        "    # optimizer=keras.optimizers.Adam(0.001),\n",
        "    optimizer=keras.optimizers.Adam(),\n",
        "    metrics=['accuracy']\n",
        ")\n",
        "\n",
        "model.summary()"
      ],
      "execution_count": 4,
      "outputs": [
        {
          "output_type": "stream",
          "text": [
            "Model: \"sequential\"\n",
            "_________________________________________________________________\n",
            "Layer (type)                 Output Shape              Param #   \n",
            "=================================================================\n",
            "flatten (Flatten)            (None, 784)               0         \n",
            "_________________________________________________________________\n",
            "dense (Dense)                (None, 500)               392500    \n",
            "_________________________________________________________________\n",
            "dense_1 (Dense)              (None, 128)               64128     \n",
            "_________________________________________________________________\n",
            "dense_2 (Dense)              (None, 10)                1290      \n",
            "=================================================================\n",
            "Total params: 457,918\n",
            "Trainable params: 457,918\n",
            "Non-trainable params: 0\n",
            "_________________________________________________________________\n"
          ],
          "name": "stdout"
        }
      ]
    },
    {
      "cell_type": "code",
      "metadata": {
        "id": "nhr-9wy5H3Ce",
        "colab_type": "code",
        "colab": {
          "base_uri": "https://localhost:8080/",
          "height": 760
        },
        "outputId": "d0fb8d9f-810e-4d85-c9b6-ab1cd21da668"
      },
      "source": [
        "# train model\n",
        "# model.fit(x_train, y_train, batch_size=100, epochs=20, validation_data=(x_test, y_test))\n",
        "model.fit(x_train, y_train, batch_size=100, epochs=20)"
      ],
      "execution_count": 5,
      "outputs": [
        {
          "output_type": "stream",
          "text": [
            "Epoch 1/20\n",
            "100/100 [==============================] - 0s 3ms/step - loss: 0.5074 - accuracy: 0.8587\n",
            "Epoch 2/20\n",
            "100/100 [==============================] - 0s 2ms/step - loss: 0.1881 - accuracy: 0.9448\n",
            "Epoch 3/20\n",
            "100/100 [==============================] - 0s 2ms/step - loss: 0.1186 - accuracy: 0.9679\n",
            "Epoch 4/20\n",
            "100/100 [==============================] - 0s 2ms/step - loss: 0.0780 - accuracy: 0.9772\n",
            "Epoch 5/20\n",
            "100/100 [==============================] - 0s 3ms/step - loss: 0.0551 - accuracy: 0.9845\n",
            "Epoch 6/20\n",
            "100/100 [==============================] - 0s 2ms/step - loss: 0.0343 - accuracy: 0.9913\n",
            "Epoch 7/20\n",
            "100/100 [==============================] - 0s 2ms/step - loss: 0.0200 - accuracy: 0.9967\n",
            "Epoch 8/20\n",
            "100/100 [==============================] - 0s 2ms/step - loss: 0.0175 - accuracy: 0.9963\n",
            "Epoch 9/20\n",
            "100/100 [==============================] - 0s 3ms/step - loss: 0.0097 - accuracy: 0.9986\n",
            "Epoch 10/20\n",
            "100/100 [==============================] - 0s 2ms/step - loss: 0.0062 - accuracy: 0.9995\n",
            "Epoch 11/20\n",
            "100/100 [==============================] - 0s 2ms/step - loss: 0.0030 - accuracy: 1.0000\n",
            "Epoch 12/20\n",
            "100/100 [==============================] - 0s 2ms/step - loss: 0.0018 - accuracy: 1.0000\n",
            "Epoch 13/20\n",
            "100/100 [==============================] - 0s 2ms/step - loss: 0.0014 - accuracy: 1.0000\n",
            "Epoch 14/20\n",
            "100/100 [==============================] - 0s 3ms/step - loss: 0.0011 - accuracy: 1.0000\n",
            "Epoch 15/20\n",
            "100/100 [==============================] - 0s 2ms/step - loss: 9.5926e-04 - accuracy: 1.0000\n",
            "Epoch 16/20\n",
            "100/100 [==============================] - 0s 2ms/step - loss: 8.2308e-04 - accuracy: 1.0000\n",
            "Epoch 17/20\n",
            "100/100 [==============================] - 0s 2ms/step - loss: 7.1775e-04 - accuracy: 1.0000\n",
            "Epoch 18/20\n",
            "100/100 [==============================] - 0s 2ms/step - loss: 6.2193e-04 - accuracy: 1.0000\n",
            "Epoch 19/20\n",
            "100/100 [==============================] - 0s 2ms/step - loss: 5.4955e-04 - accuracy: 1.0000\n",
            "Epoch 20/20\n",
            "100/100 [==============================] - 0s 2ms/step - loss: 4.8375e-04 - accuracy: 1.0000\n"
          ],
          "name": "stdout"
        },
        {
          "output_type": "execute_result",
          "data": {
            "text/plain": [
              "<tensorflow.python.keras.callbacks.History at 0x7f05100daf98>"
            ]
          },
          "metadata": {
            "tags": []
          },
          "execution_count": 5
        }
      ]
    },
    {
      "cell_type": "code",
      "metadata": {
        "id": "kIca2nbtMZt1",
        "colab_type": "code",
        "colab": {
          "base_uri": "https://localhost:8080/",
          "height": 89
        },
        "outputId": "e90cdb70-f298-4660-8eba-be88519c8ef0"
      },
      "source": [
        "# evaluate the model and output the accuracy\n",
        "result_train = model.evaluate(x_train, y_train)\n",
        "result_test = model.evaluate(x_test, y_test)\n",
        "print('Train Acc:', result_train[1])\n",
        "print('Test Acc:', result_test[1])"
      ],
      "execution_count": 6,
      "outputs": [
        {
          "output_type": "stream",
          "text": [
            "313/313 [==============================] - 1s 2ms/step - loss: 4.2807e-04 - accuracy: 1.0000\n",
            "313/313 [==============================] - 1s 2ms/step - loss: 0.1666 - accuracy: 0.9621\n",
            "Train Acc: 1.0\n",
            "Test Acc: 0.9621000289916992\n"
          ],
          "name": "stdout"
        }
      ]
    },
    {
      "cell_type": "markdown",
      "metadata": {
        "id": "ARECwnY64pY-",
        "colab_type": "text"
      },
      "source": [
        "# 課程demo上做不起來的原因\n",
        "1. (主要）使用SGD，換成ADAM就有正確率0.9以上\n",
        "2. 用 ADAM + MSE，正確率0.99；用 ADAM + cross entropy，正確可以達到1\n",
        "3. sigmoid改成relu，正確率提升的速度較快"
      ]
    }
  ]
}